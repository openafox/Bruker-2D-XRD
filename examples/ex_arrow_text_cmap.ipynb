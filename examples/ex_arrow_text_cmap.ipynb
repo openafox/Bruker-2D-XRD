{
 "cells": [
  {
   "cell_type": "code",
   "execution_count": null,
   "metadata": {},
   "outputs": [],
   "source": [
    "import numpy as np\n",
    "import matplotlib.pyplot as plt\n",
    "import matplotlib.colors as colors\n",
    "import matplotlib.cm as cmx\n",
    "import matplotlib as mpl\n",
    "\n",
    "DATA = np.random.rand(5,5)\n",
    "\n",
    "cmap = plt.cm.jet\n",
    "\n",
    "cNorm  = colors.Normalize(vmin=np.min(DATA[:,4]), vmax=np.max(DATA[:,4]))\n",
    "\n",
    "scalarMap = cmx.ScalarMappable(norm=cNorm,cmap=cmap)\n",
    "\n",
    "fig = plt.figure()\n",
    "ax  = fig.add_axes([0.1, 0.1, 0.7, 0.85]) # [left, bottom, width, height]\n",
    "axc = fig.add_axes([0.85, 0.10, 0.05, 0.85])\n",
    "\n",
    "for idx in range(0,len(DATA[:,1])):\n",
    "    colorVal = scalarMap.to_rgba(DATA[idx,4])\n",
    "    ax.arrow(DATA[idx,0],  # x1\n",
    "             DATA[idx,1],  # y1\n",
    "             DATA[idx,2]-DATA[idx,0], # x2 - x1\n",
    "             DATA[idx,3]-DATA[idx,1], # y2 - y1\n",
    "             color=colorVal)\n",
    "\n",
    "cb1 = mpl.colorbar.ColorbarBase(axc, cmap=cmap,\n",
    "                                norm=cNorm,orientation='vertical')\n",
    "\n",
    "plt.show() "
   ]
  },
  {
   "cell_type": "code",
   "execution_count": null,
   "metadata": {},
   "outputs": [],
   "source": []
  }
 ],
 "metadata": {
  "kernelspec": {
   "display_name": "Python 3",
   "language": "python",
   "name": "python3"
  },
  "language_info": {
   "codemirror_mode": {
    "name": "ipython",
    "version": 3
   },
   "file_extension": ".py",
   "mimetype": "text/x-python",
   "name": "python",
   "nbconvert_exporter": "python",
   "pygments_lexer": "ipython3",
   "version": "3.6.5"
  }
 },
 "nbformat": 4,
 "nbformat_minor": 2
}
